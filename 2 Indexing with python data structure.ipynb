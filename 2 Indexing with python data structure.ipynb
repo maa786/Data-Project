{
 "cells": [
  {
   "cell_type": "markdown",
   "id": "7f59a73a",
   "metadata": {},
   "source": [
    "#  Indexing"
   ]
  },
  {
   "cell_type": "code",
   "execution_count": 1,
   "id": "ff956dae",
   "metadata": {},
   "outputs": [
    {
     "data": {
      "text/plain": [
       "'Samosa Pakora'"
      ]
     },
     "execution_count": 1,
     "metadata": {},
     "output_type": "execute_result"
    }
   ],
   "source": [
    "\n",
    "# make a string\n",
    "a= \"Samosa Pakora\"\n",
    "a"
   ]
  },
  {
   "cell_type": "code",
   "execution_count": 2,
   "id": "849d9193",
   "metadata": {},
   "outputs": [
    {
     "data": {
      "text/plain": [
       "13"
      ]
     },
     "execution_count": 2,
     "metadata": {},
     "output_type": "execute_result"
    }
   ],
   "source": [
    "len(a) "
   ]
  },
  {
   "cell_type": "code",
   "execution_count": 3,
   "id": "40a5158b",
   "metadata": {},
   "outputs": [
    {
     "data": {
      "text/plain": [
       "'S'"
      ]
     },
     "execution_count": 3,
     "metadata": {},
     "output_type": "execute_result"
    }
   ],
   "source": [
    "a[0]"
   ]
  },
  {
   "cell_type": "code",
   "execution_count": 4,
   "id": "a78ac0a5",
   "metadata": {},
   "outputs": [
    {
     "data": {
      "text/plain": [
       "'a'"
      ]
     },
     "execution_count": 4,
     "metadata": {},
     "output_type": "execute_result"
    }
   ],
   "source": [
    "a[1]"
   ]
  },
  {
   "cell_type": "code",
   "execution_count": 5,
   "id": "2c1a5b69",
   "metadata": {},
   "outputs": [
    {
     "data": {
      "text/plain": [
       "'o'"
      ]
     },
     "execution_count": 5,
     "metadata": {},
     "output_type": "execute_result"
    }
   ],
   "source": [
    "a[3]"
   ]
  },
  {
   "cell_type": "code",
   "execution_count": 6,
   "id": "a35acc10",
   "metadata": {},
   "outputs": [
    {
     "data": {
      "text/plain": [
       "'a'"
      ]
     },
     "execution_count": 6,
     "metadata": {},
     "output_type": "execute_result"
    }
   ],
   "source": [
    "a[12]"
   ]
  },
  {
   "cell_type": "code",
   "execution_count": 7,
   "id": "e9a65672",
   "metadata": {},
   "outputs": [
    {
     "data": {
      "text/plain": [
       "'Samos'"
      ]
     },
     "execution_count": 7,
     "metadata": {},
     "output_type": "execute_result"
    }
   ],
   "source": [
    "a[0:5]"
   ]
  },
  {
   "cell_type": "code",
   "execution_count": 8,
   "id": "57922f19",
   "metadata": {},
   "outputs": [
    {
     "data": {
      "text/plain": [
       "'Samosa Pakora'"
      ]
     },
     "execution_count": 8,
     "metadata": {},
     "output_type": "execute_result"
    }
   ],
   "source": [
    "# Last index excLusive\n",
    "a[0:13]"
   ]
  },
  {
   "cell_type": "code",
   "execution_count": 9,
   "id": "e5e3fd31",
   "metadata": {},
   "outputs": [
    {
     "data": {
      "text/plain": [
       "'r'"
      ]
     },
     "execution_count": 9,
     "metadata": {},
     "output_type": "execute_result"
    }
   ],
   "source": [
    "a [ -2]"
   ]
  },
  {
   "cell_type": "code",
   "execution_count": 10,
   "id": "144b9689",
   "metadata": {},
   "outputs": [
    {
     "data": {
      "text/plain": [
       "'Pakora'"
      ]
     },
     "execution_count": 10,
     "metadata": {},
     "output_type": "execute_result"
    }
   ],
   "source": [
    "a[-6:len(a)]"
   ]
  },
  {
   "cell_type": "code",
   "execution_count": 11,
   "id": "13a93266",
   "metadata": {},
   "outputs": [
    {
     "data": {
      "text/plain": [
       "'biryani'"
      ]
     },
     "execution_count": 11,
     "metadata": {},
     "output_type": "execute_result"
    }
   ],
   "source": [
    "food = \"biryani\" \n",
    "food"
   ]
  },
  {
   "cell_type": "markdown",
   "id": "c93e60e7",
   "metadata": {},
   "source": [
    "# Strings Methods"
   ]
  },
  {
   "cell_type": "code",
   "execution_count": 12,
   "id": "6bea9cfc",
   "metadata": {},
   "outputs": [
    {
     "data": {
      "text/plain": [
       "'biryani'"
      ]
     },
     "execution_count": 12,
     "metadata": {},
     "output_type": "execute_result"
    }
   ],
   "source": [
    "food "
   ]
  },
  {
   "cell_type": "code",
   "execution_count": 13,
   "id": "25ae1975",
   "metadata": {},
   "outputs": [
    {
     "data": {
      "text/plain": [
       "7"
      ]
     },
     "execution_count": 13,
     "metadata": {},
     "output_type": "execute_result"
    }
   ],
   "source": [
    "len(food)"
   ]
  },
  {
   "cell_type": "code",
   "execution_count": 14,
   "id": "0344f152",
   "metadata": {},
   "outputs": [
    {
     "data": {
      "text/plain": [
       "'Biryani'"
      ]
     },
     "execution_count": 14,
     "metadata": {},
     "output_type": "execute_result"
    }
   ],
   "source": [
    "food.capitalize()"
   ]
  },
  {
   "cell_type": "code",
   "execution_count": 15,
   "id": "28714954",
   "metadata": {},
   "outputs": [
    {
     "data": {
      "text/plain": [
       "'biryani'"
      ]
     },
     "execution_count": 15,
     "metadata": {},
     "output_type": "execute_result"
    }
   ],
   "source": [
    "food"
   ]
  },
  {
   "cell_type": "code",
   "execution_count": 16,
   "id": "f08d3c15",
   "metadata": {},
   "outputs": [
    {
     "data": {
      "text/plain": [
       "'Biryani'"
      ]
     },
     "execution_count": 16,
     "metadata": {},
     "output_type": "execute_result"
    }
   ],
   "source": [
    "#another method to capitalize first letter\n",
    "food.title()"
   ]
  },
  {
   "cell_type": "code",
   "execution_count": 17,
   "id": "a82300ee",
   "metadata": {},
   "outputs": [
    {
     "data": {
      "text/plain": [
       "'BIRYANI'"
      ]
     },
     "execution_count": 17,
     "metadata": {},
     "output_type": "execute_result"
    }
   ],
   "source": [
    "#uppercase Letters\n",
    "food.upper ( )"
   ]
  },
  {
   "cell_type": "code",
   "execution_count": 18,
   "id": "b85e5092",
   "metadata": {},
   "outputs": [
    {
     "data": {
      "text/plain": [
       "'biryani'"
      ]
     },
     "execution_count": 18,
     "metadata": {},
     "output_type": "execute_result"
    }
   ],
   "source": [
    "#Lowercase Letters\n",
    "food.lower()"
   ]
  },
  {
   "cell_type": "code",
   "execution_count": 19,
   "id": "ef690605",
   "metadata": {},
   "outputs": [
    {
     "data": {
      "text/plain": [
       "'Shiryani'"
      ]
     },
     "execution_count": 19,
     "metadata": {},
     "output_type": "execute_result"
    }
   ],
   "source": [
    "food.replace(\"b\", \"Sh\") "
   ]
  },
  {
   "cell_type": "code",
   "execution_count": 20,
   "id": "679f8672",
   "metadata": {},
   "outputs": [
    {
     "data": {
      "text/plain": [
       "'Learning python with baba g'"
      ]
     },
     "execution_count": 20,
     "metadata": {},
     "output_type": "execute_result"
    }
   ],
   "source": [
    "# counting a specific aLphabeI in a string\n",
    "name = \"Learning python with baba g\"\n",
    "name"
   ]
  },
  {
   "cell_type": "code",
   "execution_count": 21,
   "id": "55a941e7",
   "metadata": {},
   "outputs": [
    {
     "data": {
      "text/plain": [
       "3"
      ]
     },
     "execution_count": 21,
     "metadata": {},
     "output_type": "execute_result"
    }
   ],
   "source": [
    "name.count(\"a\")\n"
   ]
  },
  {
   "cell_type": "markdown",
   "id": "87e31632",
   "metadata": {},
   "source": [
    "**• finding an index number in string**"
   ]
  },
  {
   "cell_type": "code",
   "execution_count": 22,
   "id": "2d7e2b30",
   "metadata": {
    "scrolled": true
   },
   "outputs": [
    {
     "data": {
      "text/plain": [
       "'baba _ammar with Dr Ammar Tufail'"
      ]
     },
     "execution_count": 22,
     "metadata": {},
     "output_type": "execute_result"
    }
   ],
   "source": [
    "name = \"baba _ammar with Dr Ammar Tufail\"\n",
    "name"
   ]
  },
  {
   "cell_type": "code",
   "execution_count": 23,
   "id": "14dd0a2e",
   "metadata": {},
   "outputs": [
    {
     "data": {
      "text/plain": [
       "17"
      ]
     },
     "execution_count": 23,
     "metadata": {},
     "output_type": "execute_result"
    }
   ],
   "source": [
    "name.find(\"D\")"
   ]
  },
  {
   "cell_type": "code",
   "execution_count": 24,
   "id": "89094765",
   "metadata": {},
   "outputs": [
    {
     "data": {
      "text/plain": [
       "'I love samosa, pakora, raita, biryan and karahi'"
      ]
     },
     "execution_count": 24,
     "metadata": {},
     "output_type": "execute_result"
    }
   ],
   "source": [
    "# - how to spLit a string\n",
    "food = \"I love samosa, pakora, raita, biryan and karahi\"\n",
    "food"
   ]
  },
  {
   "cell_type": "code",
   "execution_count": 25,
   "id": "75e56227",
   "metadata": {},
   "outputs": [
    {
     "data": {
      "text/plain": [
       "['I love samosa', ' pakora', ' raita', ' biryan and karahi']"
      ]
     },
     "execution_count": 25,
     "metadata": {},
     "output_type": "execute_result"
    }
   ],
   "source": [
    "food.split (\",\")\n"
   ]
  },
  {
   "cell_type": "markdown",
   "id": "e2364fcd",
   "metadata": {},
   "source": [
    "# Basic Data Structure in Python\n",
    "### 1- Tuple\n",
    "### 2- List\n",
    "### 3- Dictionaries\n",
    "### 4- Set\n",
    "### 5- Tuple"
   ]
  },
  {
   "cell_type": "markdown",
   "id": "034cb02a",
   "metadata": {},
   "source": [
    "###### • ordered collection of elements\n",
    "###### • enclosed in () round braces / parentheses\n",
    "###### • Different kind of elements can be stored\n",
    "###### • Once elements are stored you can not change them (unmutatable)"
   ]
  },
  {
   "cell_type": "code",
   "execution_count": 26,
   "id": "0d25705d",
   "metadata": {},
   "outputs": [
    {
     "data": {
      "text/plain": [
       "(1, 'Python', True, 2.5)"
      ]
     },
     "execution_count": 26,
     "metadata": {},
     "output_type": "execute_result"
    }
   ],
   "source": [
    "tup1 = (1, \"Python\", True, 2.5)\n",
    "tup1"
   ]
  },
  {
   "cell_type": "code",
   "execution_count": 27,
   "id": "68a5cc41",
   "metadata": {},
   "outputs": [
    {
     "data": {
      "text/plain": [
       "tuple"
      ]
     },
     "execution_count": 27,
     "metadata": {},
     "output_type": "execute_result"
    }
   ],
   "source": [
    "# type of a tupLe\n",
    "type(tup1)"
   ]
  },
  {
   "cell_type": "markdown",
   "id": "854580d8",
   "metadata": {},
   "source": [
    "\n",
    "# -indexing in tuple"
   ]
  },
  {
   "cell_type": "code",
   "execution_count": 28,
   "id": "e25b6fec",
   "metadata": {},
   "outputs": [
    {
     "data": {
      "text/plain": [
       "'Python'"
      ]
     },
     "execution_count": 28,
     "metadata": {},
     "output_type": "execute_result"
    }
   ],
   "source": [
    "tup1[1]"
   ]
  },
  {
   "cell_type": "code",
   "execution_count": 29,
   "id": "8669d9c3",
   "metadata": {},
   "outputs": [
    {
     "data": {
      "text/plain": [
       "True"
      ]
     },
     "execution_count": 29,
     "metadata": {},
     "output_type": "execute_result"
    }
   ],
   "source": [
    "tup1[2]"
   ]
  },
  {
   "cell_type": "code",
   "execution_count": 30,
   "id": "03bf8dae",
   "metadata": {},
   "outputs": [
    {
     "data": {
      "text/plain": [
       "(1, 'Python', True, 2.5)"
      ]
     },
     "execution_count": 30,
     "metadata": {},
     "output_type": "execute_result"
    }
   ],
   "source": [
    "#last eLevent is  exeLusive\n",
    "tup1[0:5]"
   ]
  },
  {
   "cell_type": "code",
   "execution_count": 31,
   "id": "4da10701",
   "metadata": {},
   "outputs": [
    {
     "data": {
      "text/plain": [
       "4"
      ]
     },
     "execution_count": 31,
     "metadata": {},
     "output_type": "execute_result"
    }
   ],
   "source": [
    "#count of e Lernents in tupLe\n",
    "len(tup1)"
   ]
  },
  {
   "cell_type": "code",
   "execution_count": 32,
   "id": "02e207c9",
   "metadata": {},
   "outputs": [
    {
     "data": {
      "text/plain": [
       "(2, 'Baba Ammar', 3.5, False)"
      ]
     },
     "execution_count": 32,
     "metadata": {},
     "output_type": "execute_result"
    }
   ],
   "source": [
    "tup2 = (2, \"Baba Ammar\", 3.5, False)\n",
    "tup2"
   ]
  },
  {
   "cell_type": "code",
   "execution_count": 33,
   "id": "634a1aec",
   "metadata": {},
   "outputs": [
    {
     "data": {
      "text/plain": [
       "(1, 'Python', True, 2.5, 2, 'Baba Ammar', 3.5, False)"
      ]
     },
     "execution_count": 33,
     "metadata": {},
     "output_type": "execute_result"
    }
   ],
   "source": [
    "# concatenate (to add two or more than two tup Les)\n",
    "tup1 + tup2"
   ]
  },
  {
   "cell_type": "code",
   "execution_count": 34,
   "id": "0ab543cc",
   "metadata": {},
   "outputs": [
    {
     "data": {
      "text/plain": [
       "(1, 'Python', True, 2.5, 1, 'Python', True, 2.5, 2, 'Baba Ammar', 3.5, False)"
      ]
     },
     "execution_count": 34,
     "metadata": {},
     "output_type": "execute_result"
    }
   ],
   "source": [
    "# concatenate + repeat\n",
    "tup1*2 + tup2"
   ]
  },
  {
   "cell_type": "code",
   "execution_count": 35,
   "id": "3c9cfec5",
   "metadata": {},
   "outputs": [
    {
     "data": {
      "text/plain": [
       "(20, 50, 30, 60, 79, 85)"
      ]
     },
     "execution_count": 35,
     "metadata": {},
     "output_type": "execute_result"
    }
   ],
   "source": [
    "tup3 = (20,50,30,60,79,85)\n",
    "tup3"
   ]
  },
  {
   "cell_type": "code",
   "execution_count": 36,
   "id": "8bffc20d",
   "metadata": {},
   "outputs": [
    {
     "data": {
      "text/plain": [
       "20"
      ]
     },
     "execution_count": 36,
     "metadata": {},
     "output_type": "execute_result"
    }
   ],
   "source": [
    "min(tup3)"
   ]
  },
  {
   "cell_type": "code",
   "execution_count": 37,
   "id": "2a22ea42",
   "metadata": {},
   "outputs": [
    {
     "data": {
      "text/plain": [
       "85"
      ]
     },
     "execution_count": 37,
     "metadata": {},
     "output_type": "execute_result"
    }
   ],
   "source": [
    "max(tup3)"
   ]
  },
  {
   "cell_type": "code",
   "execution_count": 38,
   "id": "99096b98",
   "metadata": {},
   "outputs": [
    {
     "data": {
      "text/plain": [
       "1"
      ]
     },
     "execution_count": 38,
     "metadata": {},
     "output_type": "execute_result"
    }
   ],
   "source": [
    "tup3.count (30)"
   ]
  },
  {
   "cell_type": "code",
   "execution_count": 39,
   "id": "702ff8a5",
   "metadata": {},
   "outputs": [
    {
     "data": {
      "text/plain": [
       "3"
      ]
     },
     "execution_count": 39,
     "metadata": {},
     "output_type": "execute_result"
    }
   ],
   "source": [
    "tup3.index (60)"
   ]
  },
  {
   "cell_type": "markdown",
   "id": "b6c6287c",
   "metadata": {},
   "source": [
    "# 2- List\n",
    "### • ordered collection of elements\n",
    "### • enclosed in [] square braces/bracket\n",
    "### • Mutateable, you can change the values"
   ]
  },
  {
   "cell_type": "code",
   "execution_count": 40,
   "id": "f1accc6e",
   "metadata": {},
   "outputs": [
    {
     "data": {
      "text/plain": [
       "[2, 'Arham', False]"
      ]
     },
     "execution_count": 40,
     "metadata": {},
     "output_type": "execute_result"
    }
   ],
   "source": [
    "listl = [2, \"Arham\", False]\n",
    "listl"
   ]
  },
  {
   "cell_type": "code",
   "execution_count": 41,
   "id": "4838cfc4",
   "metadata": {},
   "outputs": [
    {
     "data": {
      "text/plain": [
       "list"
      ]
     },
     "execution_count": 41,
     "metadata": {},
     "output_type": "execute_result"
    }
   ],
   "source": [
    "type(listl)"
   ]
  },
  {
   "cell_type": "code",
   "execution_count": 42,
   "id": "37a7fe88",
   "metadata": {},
   "outputs": [
    {
     "data": {
      "text/plain": [
       "3"
      ]
     },
     "execution_count": 42,
     "metadata": {},
     "output_type": "execute_result"
    }
   ],
   "source": [
    "len(listl)"
   ]
  },
  {
   "cell_type": "code",
   "execution_count": 43,
   "id": "81ed9a92",
   "metadata": {},
   "outputs": [
    {
     "data": {
      "text/plain": [
       "False"
      ]
     },
     "execution_count": 43,
     "metadata": {},
     "output_type": "execute_result"
    }
   ],
   "source": [
    "listl[2]"
   ]
  },
  {
   "cell_type": "code",
   "execution_count": 44,
   "id": "b1214d55",
   "metadata": {},
   "outputs": [
    {
     "data": {
      "text/plain": [
       "[3, 5, 'Adeel', 'Code', 478, 53.2, False]"
      ]
     },
     "execution_count": 44,
     "metadata": {},
     "output_type": "execute_result"
    }
   ],
   "source": [
    "list2 = [3,5,\"Adeel\", \"Code\", 478, 53.2, False]\n",
    "list2"
   ]
  },
  {
   "cell_type": "code",
   "execution_count": 45,
   "id": "b4bd2e6b",
   "metadata": {},
   "outputs": [
    {
     "data": {
      "text/plain": [
       "[2, 'Arham', False, 3, 5, 'Adeel', 'Code', 478, 53.2, False]"
      ]
     },
     "execution_count": 45,
     "metadata": {},
     "output_type": "execute_result"
    }
   ],
   "source": [
    "listl + list2\n"
   ]
  },
  {
   "cell_type": "code",
   "execution_count": 46,
   "id": "e1ed134d",
   "metadata": {},
   "outputs": [
    {
     "data": {
      "text/plain": [
       "[2, 'Arham', False, 2, 'Arham', False]"
      ]
     },
     "execution_count": 46,
     "metadata": {},
     "output_type": "execute_result"
    }
   ],
   "source": [
    "listl *2"
   ]
  },
  {
   "cell_type": "code",
   "execution_count": 47,
   "id": "0da39edf",
   "metadata": {},
   "outputs": [
    {
     "data": {
      "text/plain": [
       "[False, 'Arham', 2]"
      ]
     },
     "execution_count": 47,
     "metadata": {},
     "output_type": "execute_result"
    }
   ],
   "source": [
    "listl.reverse()\n",
    "listl"
   ]
  },
  {
   "cell_type": "code",
   "execution_count": 48,
   "id": "ca2bef2f",
   "metadata": {},
   "outputs": [
    {
     "data": {
      "text/plain": [
       "[False, 'Arham', 2, 'Youtube channel']"
      ]
     },
     "execution_count": 48,
     "metadata": {},
     "output_type": "execute_result"
    }
   ],
   "source": [
    "listl.append(\"Youtube channel\")\n",
    "listl"
   ]
  },
  {
   "cell_type": "code",
   "execution_count": 49,
   "id": "b4733f40",
   "metadata": {},
   "outputs": [
    {
     "data": {
      "text/plain": [
       "[False, 'Arham', 2, 'Youtube channel']"
      ]
     },
     "execution_count": 49,
     "metadata": {},
     "output_type": "execute_result"
    }
   ],
   "source": [
    "listl.copy ()\n"
   ]
  },
  {
   "cell_type": "code",
   "execution_count": 50,
   "id": "504cdbd7",
   "metadata": {},
   "outputs": [],
   "source": [
    "# .count method return the occurance of the value in a list"
   ]
  },
  {
   "cell_type": "code",
   "execution_count": 51,
   "id": "a2a70b8d",
   "metadata": {},
   "outputs": [
    {
     "data": {
      "text/plain": [
       "1"
      ]
     },
     "execution_count": 51,
     "metadata": {},
     "output_type": "execute_result"
    }
   ],
   "source": [
    "listl.count(2)"
   ]
  },
  {
   "cell_type": "code",
   "execution_count": 52,
   "id": "4cb72762",
   "metadata": {},
   "outputs": [
    {
     "data": {
      "text/plain": [
       "[False, 'Arham', 2, 'Youtube channel', 3, 5, 'Adeel', 'Code', 478, 53.2, False]"
      ]
     },
     "execution_count": 52,
     "metadata": {},
     "output_type": "execute_result"
    }
   ],
   "source": [
    "listl.extend(list2)\n",
    "listl"
   ]
  },
  {
   "cell_type": "code",
   "execution_count": 53,
   "id": "25afa9c7",
   "metadata": {},
   "outputs": [
    {
     "data": {
      "text/plain": [
       "5"
      ]
     },
     "execution_count": 53,
     "metadata": {},
     "output_type": "execute_result"
    }
   ],
   "source": [
    "listl.index(5)"
   ]
  },
  {
   "cell_type": "code",
   "execution_count": 54,
   "id": "a1c0df49",
   "metadata": {},
   "outputs": [
    {
     "data": {
      "text/plain": [
       "[False,\n",
       " 'orange',\n",
       " 'Arham',\n",
       " 2,\n",
       " 'Youtube channel',\n",
       " 3,\n",
       " 5,\n",
       " 'Adeel',\n",
       " 'Code',\n",
       " 478,\n",
       " 53.2,\n",
       " False]"
      ]
     },
     "execution_count": 54,
     "metadata": {},
     "output_type": "execute_result"
    }
   ],
   "source": [
    "listl.insert(1, \"orange\") \n",
    "listl"
   ]
  },
  {
   "cell_type": "code",
   "execution_count": 55,
   "id": "09c7c898",
   "metadata": {},
   "outputs": [
    {
     "data": {
      "text/plain": [
       "[False, 'Arham', 2, 'Youtube channel', 3, 5, 'Adeel', 'Code', 478, 53.2, False]"
      ]
     },
     "execution_count": 55,
     "metadata": {},
     "output_type": "execute_result"
    }
   ],
   "source": [
    "listl.pop(1)\n",
    "listl\n"
   ]
  },
  {
   "cell_type": "code",
   "execution_count": 56,
   "id": "f44bb768",
   "metadata": {},
   "outputs": [
    {
     "data": {
      "text/plain": [
       "[False, 'Arham', 2, 'Youtube channel', 3, 'Adeel', 'Code', 478, 53.2, False]"
      ]
     },
     "execution_count": 56,
     "metadata": {},
     "output_type": "execute_result"
    }
   ],
   "source": [
    "listl.remove(5)\n",
    "listl\n"
   ]
  },
  {
   "cell_type": "code",
   "execution_count": 57,
   "id": "1f36b653",
   "metadata": {},
   "outputs": [
    {
     "data": {
      "text/plain": [
       "[20, 30, 35, 50, 40, 12, 15, 11, 10, 356, 56, 886]"
      ]
     },
     "execution_count": 57,
     "metadata": {},
     "output_type": "execute_result"
    }
   ],
   "source": [
    "list3 = [20,30,35,50,40,12,15,11,10,356,56,886]\n",
    "list3"
   ]
  },
  {
   "cell_type": "code",
   "execution_count": 58,
   "id": "531627df",
   "metadata": {},
   "outputs": [],
   "source": [
    "list3.sort()"
   ]
  },
  {
   "cell_type": "code",
   "execution_count": 59,
   "id": "68d26153",
   "metadata": {},
   "outputs": [
    {
     "data": {
      "text/plain": [
       "12"
      ]
     },
     "execution_count": 59,
     "metadata": {},
     "output_type": "execute_result"
    }
   ],
   "source": [
    "len(list3)\n"
   ]
  },
  {
   "cell_type": "code",
   "execution_count": 60,
   "id": "eb07e4ad",
   "metadata": {},
   "outputs": [
    {
     "data": {
      "text/plain": [
       "[10, 11, 12, 15, 20, 30, 35, 40, 50, 56, 356, 886]"
      ]
     },
     "execution_count": 60,
     "metadata": {},
     "output_type": "execute_result"
    }
   ],
   "source": [
    "#sorting a List\n",
    "list3.sort()\n",
    "list3"
   ]
  },
  {
   "cell_type": "code",
   "execution_count": 61,
   "id": "1b7b457f",
   "metadata": {},
   "outputs": [
    {
     "data": {
      "text/plain": [
       "[10,\n",
       " 11,\n",
       " 12,\n",
       " 15,\n",
       " 20,\n",
       " 30,\n",
       " 35,\n",
       " 40,\n",
       " 50,\n",
       " 56,\n",
       " 356,\n",
       " 886,\n",
       " 10,\n",
       " 11,\n",
       " 12,\n",
       " 15,\n",
       " 20,\n",
       " 30,\n",
       " 35,\n",
       " 40,\n",
       " 50,\n",
       " 56,\n",
       " 356,\n",
       " 886,\n",
       " 10,\n",
       " 11,\n",
       " 12,\n",
       " 15,\n",
       " 20,\n",
       " 30,\n",
       " 35,\n",
       " 40,\n",
       " 50,\n",
       " 56,\n",
       " 356,\n",
       " 886]"
      ]
     },
     "execution_count": 61,
     "metadata": {},
     "output_type": "execute_result"
    }
   ],
   "source": [
    "list3*3 "
   ]
  },
  {
   "cell_type": "code",
   "execution_count": 62,
   "id": "c8bb1488",
   "metadata": {},
   "outputs": [
    {
     "data": {
      "text/plain": [
       "[False,\n",
       " 'Arham',\n",
       " 2,\n",
       " 'Youtube channel',\n",
       " 3,\n",
       " 'Adeel',\n",
       " 'Code',\n",
       " 478,\n",
       " 53.2,\n",
       " False,\n",
       " 3,\n",
       " 5,\n",
       " 'Adeel',\n",
       " 'Code',\n",
       " 478,\n",
       " 53.2,\n",
       " False]"
      ]
     },
     "execution_count": 62,
     "metadata": {},
     "output_type": "execute_result"
    }
   ],
   "source": [
    "lists = listl + list2 \n",
    "lists"
   ]
  },
  {
   "cell_type": "code",
   "execution_count": null,
   "id": "fff6bbd1",
   "metadata": {},
   "outputs": [],
   "source": []
  },
  {
   "cell_type": "markdown",
   "id": "3aa2f717",
   "metadata": {},
   "source": [
    "# 3- Dictionaries\n",
    "### • An unordered collection of elements\n",
    "### • Key and Value\n",
    "### • Curly braces or brackets ()\n",
    "### • Mutateable/Change the values"
   ]
  },
  {
   "cell_type": "code",
   "execution_count": 63,
   "id": "63db6bd9",
   "metadata": {},
   "outputs": [
    {
     "data": {
      "text/plain": [
       "{'Samosa': 30, 'Pakora': 100, 'Raita': 20, 'Salad': 50, 'Chicken Rolls': 30}"
      ]
     },
     "execution_count": 63,
     "metadata": {},
     "output_type": "execute_result"
    }
   ],
   "source": [
    "# Food and their prices\n",
    "foodl = {\"Samosa\":30, \"Pakora\":100, \"Raita\":20, \"Salad\":50, \"Chicken Rolls\":30}\n",
    "foodl"
   ]
  },
  {
   "cell_type": "code",
   "execution_count": 64,
   "id": "cf38f775",
   "metadata": {},
   "outputs": [
    {
     "data": {
      "text/plain": [
       "dict"
      ]
     },
     "execution_count": 64,
     "metadata": {},
     "output_type": "execute_result"
    }
   ],
   "source": [
    "type(foodl)"
   ]
  },
  {
   "cell_type": "code",
   "execution_count": 65,
   "id": "85b02f62",
   "metadata": {},
   "outputs": [
    {
     "data": {
      "text/plain": [
       "dict_keys(['Samosa', 'Pakora', 'Raita', 'Salad', 'Chicken Rolls'])"
      ]
     },
     "execution_count": 65,
     "metadata": {},
     "output_type": "execute_result"
    }
   ],
   "source": [
    "#extract data\n",
    "keysl = foodl.keys()\n",
    "keysl"
   ]
  },
  {
   "cell_type": "code",
   "execution_count": 66,
   "id": "3de11c1d",
   "metadata": {},
   "outputs": [
    {
     "data": {
      "text/plain": [
       "dict_values([30, 100, 20, 50, 30])"
      ]
     },
     "execution_count": 66,
     "metadata": {},
     "output_type": "execute_result"
    }
   ],
   "source": [
    "#extnact vaLues\n",
    "\n",
    "valuesl = foodl.values()\n",
    "valuesl"
   ]
  },
  {
   "cell_type": "code",
   "execution_count": 67,
   "id": "1e11743c",
   "metadata": {},
   "outputs": [
    {
     "data": {
      "text/plain": [
       "{'Samosa': 30,\n",
       " 'Pakora': 100,\n",
       " 'Raita': 20,\n",
       " 'Salad': 50,\n",
       " 'Chicken Rolls': 30,\n",
       " 'Tikki': 10}"
      ]
     },
     "execution_count": 67,
     "metadata": {},
     "output_type": "execute_result"
    }
   ],
   "source": [
    "#adding new eLernent\n",
    "foodl[\"Tikki\"]=10\n",
    "foodl\n"
   ]
  },
  {
   "cell_type": "code",
   "execution_count": 68,
   "id": "37c20cc6",
   "metadata": {},
   "outputs": [
    {
     "data": {
      "text/plain": [
       "{'Samosa': 30,\n",
       " 'Pakora': 100,\n",
       " 'Raita': 20,\n",
       " 'Salad': 50,\n",
       " 'Chicken Rolls': 30,\n",
       " 'Tikki': 15}"
      ]
     },
     "execution_count": 68,
     "metadata": {},
     "output_type": "execute_result"
    }
   ],
   "source": [
    "#update the vaLues\n",
    "foodl[\"Tikki\"]=15\n",
    "foodl\n"
   ]
  },
  {
   "cell_type": "code",
   "execution_count": 69,
   "id": "2582206f",
   "metadata": {},
   "outputs": [
    {
     "data": {
      "text/plain": [
       "{'Dates': 50, 'Chocolates': 200, 'Siwayyan': 1000}"
      ]
     },
     "execution_count": 69,
     "metadata": {},
     "output_type": "execute_result"
    }
   ],
   "source": [
    "food2 = {\"Dates\":50, \"Chocolates\":200, \"Siwayyan\":1000}\n",
    "food2"
   ]
  },
  {
   "cell_type": "code",
   "execution_count": 70,
   "id": "c81fc019",
   "metadata": {},
   "outputs": [
    {
     "data": {
      "text/plain": [
       "{'Samosa': 30,\n",
       " 'Pakora': 100,\n",
       " 'Raita': 20,\n",
       " 'Salad': 50,\n",
       " 'Chicken Rolls': 30,\n",
       " 'Tikki': 15,\n",
       " 'Dates': 50,\n",
       " 'Chocolates': 200,\n",
       " 'Siwayyan': 1000}"
      ]
     },
     "execution_count": 70,
     "metadata": {},
     "output_type": "execute_result"
    }
   ],
   "source": [
    "#concatenate\n",
    "foodl.update(food2)\n",
    "foodl\n"
   ]
  },
  {
   "cell_type": "code",
   "execution_count": 71,
   "id": "3676e0bb",
   "metadata": {},
   "outputs": [
    {
     "data": {
      "text/plain": [
       "{'Samosa': 30,\n",
       " 'Pakora': 100,\n",
       " 'Raita': 20,\n",
       " 'Salad': 50,\n",
       " 'Chicken Rolls': 30,\n",
       " 'Tikki': 15,\n",
       " 'Dates': 50,\n",
       " 'Chocolates': 200,\n",
       " 'Siwayyan': 1000}"
      ]
     },
     "execution_count": 71,
     "metadata": {},
     "output_type": "execute_result"
    }
   ],
   "source": [
    "foodl.copy()"
   ]
  },
  {
   "cell_type": "code",
   "execution_count": 72,
   "id": "fc73fcdf",
   "metadata": {},
   "outputs": [
    {
     "data": {
      "text/plain": [
       "{'S': -2, 'a': -2, 'm': -2, 'o': -2, 's': -2}"
      ]
     },
     "execution_count": 72,
     "metadata": {},
     "output_type": "execute_result"
    }
   ],
   "source": [
    "foodl.fromkeys('Samosa', -2)"
   ]
  },
  {
   "cell_type": "code",
   "execution_count": 73,
   "id": "a41ed925",
   "metadata": {},
   "outputs": [
    {
     "data": {
      "text/plain": [
       "20"
      ]
     },
     "execution_count": 73,
     "metadata": {},
     "output_type": "execute_result"
    }
   ],
   "source": [
    "foodl.get('Raita')"
   ]
  },
  {
   "cell_type": "code",
   "execution_count": 74,
   "id": "ab7f1da3",
   "metadata": {},
   "outputs": [
    {
     "data": {
      "text/plain": [
       "dict_items([('Samosa', 30), ('Pakora', 100), ('Raita', 20), ('Salad', 50), ('Chicken Rolls', 30), ('Tikki', 15), ('Dates', 50), ('Chocolates', 200), ('Siwayyan', 1000)])"
      ]
     },
     "execution_count": 74,
     "metadata": {},
     "output_type": "execute_result"
    }
   ],
   "source": [
    "foodl.items()"
   ]
  },
  {
   "cell_type": "code",
   "execution_count": 75,
   "id": "d09fd51e",
   "metadata": {},
   "outputs": [
    {
     "data": {
      "text/plain": [
       "('Siwayyan', 1000)"
      ]
     },
     "execution_count": 75,
     "metadata": {},
     "output_type": "execute_result"
    }
   ],
   "source": [
    "foodl.popitem()"
   ]
  },
  {
   "cell_type": "code",
   "execution_count": 76,
   "id": "3dcb0d8b",
   "metadata": {},
   "outputs": [
    {
     "data": {
      "text/plain": [
       "dict_values([30, 100, 20, 50, 30, 15, 50, 200])"
      ]
     },
     "execution_count": 76,
     "metadata": {},
     "output_type": "execute_result"
    }
   ],
   "source": [
    "foodl.values()"
   ]
  },
  {
   "cell_type": "code",
   "execution_count": 77,
   "id": "a0f38ec3",
   "metadata": {},
   "outputs": [
    {
     "data": {
      "text/plain": [
       "30"
      ]
     },
     "execution_count": 77,
     "metadata": {},
     "output_type": "execute_result"
    }
   ],
   "source": [
    "foodl.setdefault('Samosa')"
   ]
  },
  {
   "cell_type": "markdown",
   "id": "81593367",
   "metadata": {},
   "source": [
    "# 4- Set\n",
    "### • Unordered and unindexed\n",
    "### • curly braces are used ()\n",
    "### • No duplicates allowed"
   ]
  },
  {
   "cell_type": "code",
   "execution_count": 78,
   "id": "f1d67cbc",
   "metadata": {},
   "outputs": [
    {
     "data": {
      "text/plain": [
       "{1, 2.2, 5.2, 'Ammar', 'Codanics', 'Faisalabad'}"
      ]
     },
     "execution_count": 78,
     "metadata": {},
     "output_type": "execute_result"
    }
   ],
   "source": [
    "s1 = {1,2.2,5.2,\"Ammar\", \"Codanics\", \"Faisalabad\", True}\n",
    "s1"
   ]
  },
  {
   "cell_type": "code",
   "execution_count": 79,
   "id": "35875291",
   "metadata": {},
   "outputs": [
    {
     "data": {
      "text/plain": [
       "{1, 2.2, 5.2, 'Ammar', 'Codanics', 'Faisalabad'}"
      ]
     },
     "execution_count": 79,
     "metadata": {},
     "output_type": "execute_result"
    }
   ],
   "source": [
    "s1.add(\"Ammar\") \n",
    "s1\n"
   ]
  },
  {
   "cell_type": "code",
   "execution_count": 80,
   "id": "a6c2a2b3",
   "metadata": {},
   "outputs": [
    {
     "data": {
      "text/plain": [
       "{1, 2.2, 5.2, 'Codanics', 'Faisalabad'}"
      ]
     },
     "execution_count": 80,
     "metadata": {},
     "output_type": "execute_result"
    }
   ],
   "source": [
    "s1.remove(\"Ammar\")\n",
    "s1"
   ]
  },
  {
   "cell_type": "code",
   "execution_count": 81,
   "id": "fc7e0280",
   "metadata": {},
   "outputs": [
    {
     "data": {
      "text/plain": [
       "{1, 2.2, 5.2, 'Codanics', 'Faisalabad'}"
      ]
     },
     "execution_count": 81,
     "metadata": {},
     "output_type": "execute_result"
    }
   ],
   "source": [
    "s1.copy()"
   ]
  },
  {
   "cell_type": "code",
   "execution_count": 82,
   "id": "124d8986",
   "metadata": {},
   "outputs": [
    {
     "data": {
      "text/plain": [
       "{1, 2.2, 5.2, 'Codanics', 'Faisalabad'}"
      ]
     },
     "execution_count": 82,
     "metadata": {},
     "output_type": "execute_result"
    }
   ],
   "source": [
    "s2 = s1. copy( ) \n",
    "s2\n"
   ]
  },
  {
   "cell_type": "code",
   "execution_count": 83,
   "id": "39145873",
   "metadata": {},
   "outputs": [
    {
     "data": {
      "text/plain": [
       "{1, 2.2, 5.2, 'Arham', 'Codanics', 'Faisalabad'}"
      ]
     },
     "execution_count": 83,
     "metadata": {},
     "output_type": "execute_result"
    }
   ],
   "source": [
    "s2. add ( \"Arham\" ) \n",
    "s2"
   ]
  },
  {
   "cell_type": "code",
   "execution_count": 84,
   "id": "32ba2f93",
   "metadata": {},
   "outputs": [
    {
     "data": {
      "text/plain": [
       "{'Arham'}"
      ]
     },
     "execution_count": 84,
     "metadata": {},
     "output_type": "execute_result"
    }
   ],
   "source": [
    "s2.difference(s1)"
   ]
  },
  {
   "cell_type": "code",
   "execution_count": 85,
   "id": "74c2a85d",
   "metadata": {},
   "outputs": [
    {
     "data": {
      "text/plain": [
       "{1, 2.2, 5.2, 'Codanics', 'Faisalabad'}"
      ]
     },
     "execution_count": 85,
     "metadata": {},
     "output_type": "execute_result"
    }
   ],
   "source": [
    "s2.intersection(s1)"
   ]
  },
  {
   "cell_type": "code",
   "execution_count": 86,
   "id": "0dd0d720",
   "metadata": {},
   "outputs": [
    {
     "data": {
      "text/plain": [
       "False"
      ]
     },
     "execution_count": 86,
     "metadata": {},
     "output_type": "execute_result"
    }
   ],
   "source": [
    "s2.isdisjoint (s1)"
   ]
  },
  {
   "cell_type": "code",
   "execution_count": 87,
   "id": "395f4b77",
   "metadata": {},
   "outputs": [
    {
     "data": {
      "text/plain": [
       "False"
      ]
     },
     "execution_count": 87,
     "metadata": {},
     "output_type": "execute_result"
    }
   ],
   "source": [
    "s2.issubset(s1)\n"
   ]
  },
  {
   "cell_type": "code",
   "execution_count": 88,
   "id": "a22e4bfa",
   "metadata": {},
   "outputs": [
    {
     "data": {
      "text/plain": [
       "True"
      ]
     },
     "execution_count": 88,
     "metadata": {},
     "output_type": "execute_result"
    }
   ],
   "source": [
    "s2.issuperset(s1)"
   ]
  },
  {
   "cell_type": "code",
   "execution_count": 89,
   "id": "533efc88",
   "metadata": {},
   "outputs": [
    {
     "data": {
      "text/plain": [
       "{2.2, 5.2, 'Arham', 'Codanics', 'Faisalabad'}"
      ]
     },
     "execution_count": 89,
     "metadata": {},
     "output_type": "execute_result"
    }
   ],
   "source": [
    "s2.pop()\n",
    "s2"
   ]
  },
  {
   "cell_type": "code",
   "execution_count": 90,
   "id": "1c4377e3",
   "metadata": {},
   "outputs": [
    {
     "data": {
      "text/plain": [
       "{1, 'Arham'}"
      ]
     },
     "execution_count": 90,
     "metadata": {},
     "output_type": "execute_result"
    }
   ],
   "source": [
    "s2.symmetric_difference(s1)"
   ]
  },
  {
   "cell_type": "code",
   "execution_count": 91,
   "id": "edda8e42",
   "metadata": {},
   "outputs": [
    {
     "data": {
      "text/plain": [
       "{1, 2.2, 5.2, 'Arham', 'Codanics', 'Faisalabad'}"
      ]
     },
     "execution_count": 91,
     "metadata": {},
     "output_type": "execute_result"
    }
   ],
   "source": [
    "s2.union(s1)\n"
   ]
  },
  {
   "cell_type": "code",
   "execution_count": 92,
   "id": "c2a5d343",
   "metadata": {},
   "outputs": [
    {
     "data": {
      "text/plain": [
       "{1, 2.2, 5.2, 'Arham', 'Codanics', 'Faisalabad'}"
      ]
     },
     "execution_count": 92,
     "metadata": {},
     "output_type": "execute_result"
    }
   ],
   "source": [
    "s2.update(s1)\n",
    "s2"
   ]
  }
 ],
 "metadata": {
  "kernelspec": {
   "display_name": "Python 3 (ipykernel)",
   "language": "python",
   "name": "python3"
  },
  "language_info": {
   "codemirror_mode": {
    "name": "ipython",
    "version": 3
   },
   "file_extension": ".py",
   "mimetype": "text/x-python",
   "name": "python",
   "nbconvert_exporter": "python",
   "pygments_lexer": "ipython3",
   "version": "3.9.7"
  }
 },
 "nbformat": 4,
 "nbformat_minor": 5
}
