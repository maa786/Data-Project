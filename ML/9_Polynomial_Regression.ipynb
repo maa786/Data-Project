{
 "cells": [
  {
   "cell_type": "markdown",
   "id": "231fd801",
   "metadata": {},
   "source": [
    "# Muhammad Arham Adeel\n",
    "\n",
    "## Polynomial Regression\n",
    "### Practice and task given in the video."
   ]
  },
  {
   "cell_type": "code",
   "execution_count": 1,
   "id": "0d4bf969",
   "metadata": {},
   "outputs": [
    {
     "data": {
      "image/png": "[encoded data removed]",
      "text/plain": [
       "<Figure size 432x288 with 1 Axes>"
      ]
     },
     "metadata": {
      "needs_background": "light"
     },
     "output_type": "display_data"
    }
   ],
   "source": [
    "#bad fit\n",
    "\n",
    "import numpy\n",
    "import matplotlib.pyplot as plt\n",
    "\n",
    "x = [89,43,36,36,95,10,66,34,38,20,26,29,48,64,6,5,36,66,72,40]\n",
    "y = [21,46,3,35,67,95,53,72,58,10,26,34,90,33,38,20,56,2,47,15]\n",
    "\n",
    "mymodel = numpy.poly1d(numpy.polyfit(x,y,3))\n",
    "\n",
    "myline = numpy.linspace(2,95,100)\n",
    "\n",
    "plt.scatter(x,y)\n",
    "plt.plot(myline,mymodel(myline))\n",
    "plt.show()"
   ]
  },
  {
   "cell_type": "markdown",
   "id": "fc8849eb",
   "metadata": {},
   "source": [
    "# R-Square for Bad fit"
   ]
  },
  {
   "cell_type": "code",
   "execution_count": 2,
   "id": "e099f081",
   "metadata": {},
   "outputs": [
    {
     "name": "stdout",
     "output_type": "stream",
     "text": [
      "0.009952707566680652\n"
     ]
    }
   ],
   "source": [
    "from sklearn.metrics import r2_score\n",
    "\n",
    "x = [89,43,36,36,95,10,66,34,38,20,26,29,48,64,6,5,36,66,72,40]\n",
    "y = [21,46,3,35,67,95,53,72,58,10,26,34,90,33,38,20,56,2,47,15]\n",
    "\n",
    "model = numpy.poly1d(numpy.polyfit(x,y,3))\n",
    "\n",
    "print(r2_score(y,model(x)))"
   ]
  },
  {
   "cell_type": "code",
   "execution_count": 3,
   "id": "2427418e",
   "metadata": {},
   "outputs": [
    {
     "data": {
      "text/plain": [
       "<matplotlib.collections.PathCollection at 0x1f162b36e80>"
      ]
     },
     "execution_count": 3,
     "metadata": {},
     "output_type": "execute_result"
    },
    {
     "data": {
      "image/png": "[encoded data removed]",
      "text/plain": [
       "<Figure size 432x288 with 1 Axes>"
      ]
     },
     "metadata": {
      "needs_background": "light"
     },
     "output_type": "display_data"
    }
   ],
   "source": [
    "#Step-1 Data\n",
    "\n",
    "x = [1,2,3,4,5,6,7,8,9,12,13,14,15,16,18,19,21,22]\n",
    "y = [100,90,80,60,60,55,60,65,70,70,75,76,78,79,90,99,99,100]\n",
    "# len(x)\n",
    "plt.scatter(x,y, color=\"green\")"
   ]
  },
  {
   "cell_type": "code",
   "execution_count": 4,
   "id": "a7010edc",
   "metadata": {},
   "outputs": [
    {
     "data": {
      "image/png": "[encoded data removed]",
      "text/plain": [
       "<Figure size 432x288 with 1 Axes>"
      ]
     },
     "metadata": {
      "needs_background": "light"
     },
     "output_type": "display_data"
    }
   ],
   "source": [
    "mymodel = numpy.poly1d(numpy.polyfit(x,y,3))\n",
    "\n",
    "myline = numpy.linspace(1,22,100)\n",
    "\n",
    "plt.scatter(x,y)\n",
    "plt.plot(myline,mymodel(myline))\n",
    "plt.show()"
   ]
  },
  {
   "cell_type": "code",
   "execution_count": 5,
   "id": "451de041",
   "metadata": {},
   "outputs": [
    {
     "name": "stdout",
     "output_type": "stream",
     "text": [
      "0.9003852716313046\n"
     ]
    }
   ],
   "source": [
    "# Stpe-3: R_Squared\n",
    "\n",
    "from sklearn.metrics import r2_score\n",
    "\n",
    "x = [1,2,3,4,5,6,7,8,9,12,13,14,15,16,18,19,21,22]\n",
    "y = [100,90,80,60,60,55,60,65,70,70,75,76,78,79,90,99,99,100]\n",
    "\n",
    "model = numpy.poly1d(numpy.polyfit(x,y,3))\n",
    "\n",
    "print(r2_score(y,model(x)))"
   ]
  },
  {
   "cell_type": "code",
   "execution_count": 6,
   "id": "52de1d72",
   "metadata": {},
   "outputs": [
    {
     "data": {
      "text/plain": [
       "92.66670110727381"
      ]
     },
     "execution_count": 6,
     "metadata": {},
     "output_type": "execute_result"
    }
   ],
   "source": [
    "from sklearn.metrics import r2_score\n",
    "\n",
    "x = [1,2,3,4,5,6,7,8,9,12,13,14,15,16,18,19,21,22]\n",
    "y = [100,90,80,60,60,55,60,65,70,70,75,76,78,79,90,99,99,100]\n",
    "\n",
    "model = numpy.poly1d(numpy.polyfit(x,y,3))\n",
    "\n",
    "speed = mymodel(18)\n",
    "speed"
   ]
  },
  {
   "cell_type": "markdown",
   "id": "9675525c",
   "metadata": {},
   "source": [
    "##### How do you determine the degree of a polynomial fit?\n",
    "We can choose the degree of polynomial based on the relationship between target and predictor. The 1-degree polynomial is a simple linear regression; therefore, the value of degree must be greater than 1. With the increasing degree of the polynomial, the complexity of the model also increases."
   ]
  },
  {
   "cell_type": "markdown",
   "id": "ac806f0c",
   "metadata": {},
   "source": [
    "## Hands on Example"
   ]
  },
  {
   "cell_type": "code",
   "execution_count": 7,
   "id": "ecd9e066",
   "metadata": {},
   "outputs": [
    {
     "data": {
      "text/html": [
       "<div>\n",
       "<style scoped>\n",
       "    .dataframe tbody tr th:only-of-type {\n",
       "        vertical-align: middle;\n",
       "    }\n",
       "\n",
       "    .dataframe tbody tr th {\n",
       "        vertical-align: top;\n",
       "    }\n",
       "\n",
       "    .dataframe thead th {\n",
       "        text-align: right;\n",
       "    }\n",
       "</style>\n",
       "<table border=\"1\" class=\"dataframe\">\n",
       "  <thead>\n",
       "    <tr style=\"text-align: right;\">\n",
       "      <th></th>\n",
       "      <th>Position</th>\n",
       "      <th>Level</th>\n",
       "      <th>Salary</th>\n",
       "    </tr>\n",
       "  </thead>\n",
       "  <tbody>\n",
       "    <tr>\n",
       "      <th>0</th>\n",
       "      <td>Business Analyst</td>\n",
       "      <td>1</td>\n",
       "      <td>45000</td>\n",
       "    </tr>\n",
       "    <tr>\n",
       "      <th>1</th>\n",
       "      <td>Junior Consultant</td>\n",
       "      <td>2</td>\n",
       "      <td>50000</td>\n",
       "    </tr>\n",
       "    <tr>\n",
       "      <th>2</th>\n",
       "      <td>Senior Consultant</td>\n",
       "      <td>3</td>\n",
       "      <td>60000</td>\n",
       "    </tr>\n",
       "    <tr>\n",
       "      <th>3</th>\n",
       "      <td>Manager</td>\n",
       "      <td>4</td>\n",
       "      <td>80000</td>\n",
       "    </tr>\n",
       "    <tr>\n",
       "      <th>4</th>\n",
       "      <td>Country Manager</td>\n",
       "      <td>5</td>\n",
       "      <td>110000</td>\n",
       "    </tr>\n",
       "  </tbody>\n",
       "</table>\n",
       "</div>"
      ],
      "text/plain": [
       "            Position  Level  Salary\n",
       "0   Business Analyst      1   45000\n",
       "1  Junior Consultant      2   50000\n",
       "2  Senior Consultant      3   60000\n",
       "3            Manager      4   80000\n",
       "4    Country Manager      5  110000"
      ]
     },
     "execution_count": 7,
     "metadata": {},
     "output_type": "execute_result"
    }
   ],
   "source": [
    "# importing libraries\n",
    "\n",
    "import numpy\n",
    "import matplotlib.pyplot as plt\n",
    "import pandas as pd\n",
    "\n",
    "df = pd.read_csv(\"https://s3.us-west-2.amazonaws.com/public.gamelab.fun/dataset/position_salaries.csv\")\n",
    "df.head()"
   ]
  },
  {
   "cell_type": "code",
   "execution_count": 8,
   "id": "4d807c2c",
   "metadata": {},
   "outputs": [],
   "source": [
    "x= df.iloc[:,1:2].values\n",
    "y = df.iloc[:,2].values"
   ]
  },
  {
   "cell_type": "code",
   "execution_count": 9,
   "id": "851a365a",
   "metadata": {},
   "outputs": [],
   "source": [
    "from sklearn.model_selection import train_test_split\n",
    "X_train,X_test,y_train,y_test = train_test_split(x,y, test_size=0.2, random_state=0) #here i can split data into 80/20"
   ]
  },
  {
   "cell_type": "code",
   "execution_count": 10,
   "id": "44198fad",
   "metadata": {},
   "outputs": [
    {
     "data": {
      "text/plain": [
       "LinearRegression()"
      ]
     },
     "execution_count": 10,
     "metadata": {},
     "output_type": "execute_result"
    }
   ],
   "source": [
    "from sklearn.linear_model import LinearRegression\n",
    "\n",
    "lin_reg = LinearRegression()\n",
    "lin_reg.fit(x,y)"
   ]
  },
  {
   "cell_type": "markdown",
   "id": "6e0018c2",
   "metadata": {},
   "source": [
    "### Visualize the Linear Regression Result"
   ]
  },
  {
   "cell_type": "code",
   "execution_count": 47,
   "id": "eb6ecd2c",
   "metadata": {},
   "outputs": [
    {
     "data": {
      "image/png": "[encoded data removed]",
      "text/plain": [
       "<Figure size 432x288 with 1 Axes>"
      ]
     },
     "metadata": {
      "needs_background": "light"
     },
     "output_type": "display_data"
    }
   ],
   "source": [
    "def viz_linear():\n",
    "    plt.scatter(x,y,color=\"red\")\n",
    "    plt.plot(x,lin_reg.predict(x), color=\"blue\")\n",
    "    plt.title(\"Truth or Bluff (Linear Regression)\")\n",
    "    plt.xlabel(\"Position_Level\")\n",
    "    plt.ylabel(\"Salary\")\n",
    "    plt.show()\n",
    "    return\n",
    "viz_linear()"
   ]
  },
  {
   "cell_type": "code",
   "execution_count": 53,
   "id": "2b2e2cb0",
   "metadata": {},
   "outputs": [
    {
     "data": {
      "image/png": "[encoded data removed]",
      "text/plain": [
       "<Figure size 432x288 with 1 Axes>"
      ]
     },
     "metadata": {
      "needs_background": "light"
     },
     "output_type": "display_data"
    }
   ],
   "source": [
    "# Fitting polynomial regression to the dateset\n",
    "\n",
    "from sklearn.preprocessing import PolynomialFeatures\n",
    "\n",
    "poly_reg = PolynomialFeatures(degree = 4)\n",
    "X_poly = poly_reg.fit_transform(x)\n",
    "\n",
    "pol_reg = LinearRegression()\n",
    "pol_reg.fit(X_poly,y)\n",
    "\n",
    "# Visulaize the polynomial Results\n",
    "\n",
    "def viz_polynomial():\n",
    "    plt.scatter(x,y,color=\"red\")\n",
    "    plt.plot(x,pol_reg.predict(poly_reg.fit_transform(x)), color=\"blue\")\n",
    "    plt.title(\"Truth or Bluff (Linear Regression)\")\n",
    "    plt.xlabel(\"Position_Level\")\n",
    "    plt.ylabel(\"Salary\")\n",
    "    plt.show()\n",
    "    return\n",
    "viz_polynomial()"
   ]
  },
  {
   "cell_type": "code",
   "execution_count": 49,
   "id": "fe239466",
   "metadata": {},
   "outputs": [
    {
     "data": {
      "text/plain": [
       "array([694333.33333333])"
      ]
     },
     "execution_count": 49,
     "metadata": {},
     "output_type": "execute_result"
    }
   ],
   "source": [
    "# predicting a new result with linerRegresion\n",
    "\n",
    "\n",
    "pred_linear = lin_reg.predict([[11]])\n",
    "pred_linear"
   ]
  },
  {
   "cell_type": "code",
   "execution_count": 54,
   "id": "a3b808dc",
   "metadata": {},
   "outputs": [],
   "source": [
    "#predicting a new result with polynomial regression\n",
    "\n",
    "pred_polynomial = pol_reg.predict(poly_reg.fit_transform([[11]]))"
   ]
  },
  {
   "cell_type": "code",
   "execution_count": 55,
   "id": "ec1eea31",
   "metadata": {},
   "outputs": [
    {
     "name": "stdout",
     "output_type": "stream",
     "text": [
      "Linear Regression Result [694333.33333333]\n"
     ]
    }
   ],
   "source": [
    "print(\"Linear Regression Result\",pred_linear)"
   ]
  },
  {
   "cell_type": "code",
   "execution_count": 56,
   "id": "4fce2c45",
   "metadata": {},
   "outputs": [
    {
     "name": "stdout",
     "output_type": "stream",
     "text": [
      "Polynomial Regression Result =  [1780833.33333322]\n"
     ]
    }
   ],
   "source": [
    "print(\"Polynomial Regression Result = \",pred_polynomial)"
   ]
  },
  {
   "cell_type": "code",
   "execution_count": 57,
   "id": "2d75cdf4",
   "metadata": {},
   "outputs": [
    {
     "name": "stdout",
     "output_type": "stream",
     "text": [
      "The difference is =  [-1086499.99999989]\n"
     ]
    }
   ],
   "source": [
    "print(\"The difference is = \",pred_linear - pred_polynomial)"
   ]
  },
  {
   "cell_type": "code",
   "execution_count": null,
   "id": "f2cd3899",
   "metadata": {},
   "outputs": [],
   "source": []
  }
 ],
 "metadata": {
  "kernelspec": {
   "display_name": "Python 3 (ipykernel)",
   "language": "python",
   "name": "python3"
  },
  "language_info": {
   "codemirror_mode": {
    "name": "ipython",
    "version": 3
   },
   "file_extension": ".py",
   "mimetype": "text/x-python",
   "name": "python",
   "nbconvert_exporter": "python",
   "pygments_lexer": "ipython3",
   "version": "3.9.7"
  }
 },
 "nbformat": 4,
 "nbformat_minor": 5
}
