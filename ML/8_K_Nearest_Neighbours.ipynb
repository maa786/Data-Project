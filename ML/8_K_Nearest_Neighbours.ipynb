{
 "cells": [
  {
   "cell_type": "markdown",
   "id": "01308d32",
   "metadata": {},
   "source": [
    "# Muhammad Arham Adeel\n",
    "\n",
    "## K-Nearest - Neighbours\n",
    "### Practice and task given in the video."
   ]
  },
  {
   "cell_type": "code",
   "execution_count": 1,
   "id": "f8a35680",
   "metadata": {},
   "outputs": [
    {
     "data": {
      "text/html": [
       "<div>\n",
       "<style scoped>\n",
       "    .dataframe tbody tr th:only-of-type {\n",
       "        vertical-align: middle;\n",
       "    }\n",
       "\n",
       "    .dataframe tbody tr th {\n",
       "        vertical-align: top;\n",
       "    }\n",
       "\n",
       "    .dataframe thead th {\n",
       "        text-align: right;\n",
       "    }\n",
       "</style>\n",
       "<table border=\"1\" class=\"dataframe\">\n",
       "  <thead>\n",
       "    <tr style=\"text-align: right;\">\n",
       "      <th></th>\n",
       "      <th>age</th>\n",
       "      <th>weight</th>\n",
       "      <th>gender</th>\n",
       "      <th>likeness</th>\n",
       "      <th>height</th>\n",
       "    </tr>\n",
       "  </thead>\n",
       "  <tbody>\n",
       "    <tr>\n",
       "      <th>0</th>\n",
       "      <td>27</td>\n",
       "      <td>76.0</td>\n",
       "      <td>Male</td>\n",
       "      <td>Biryani</td>\n",
       "      <td>170.688</td>\n",
       "    </tr>\n",
       "    <tr>\n",
       "      <th>1</th>\n",
       "      <td>41</td>\n",
       "      <td>70.0</td>\n",
       "      <td>Male</td>\n",
       "      <td>Biryani</td>\n",
       "      <td>165.000</td>\n",
       "    </tr>\n",
       "    <tr>\n",
       "      <th>2</th>\n",
       "      <td>29</td>\n",
       "      <td>80.0</td>\n",
       "      <td>Male</td>\n",
       "      <td>Biryani</td>\n",
       "      <td>171.000</td>\n",
       "    </tr>\n",
       "    <tr>\n",
       "      <th>3</th>\n",
       "      <td>27</td>\n",
       "      <td>102.0</td>\n",
       "      <td>Male</td>\n",
       "      <td>Biryani</td>\n",
       "      <td>173.000</td>\n",
       "    </tr>\n",
       "    <tr>\n",
       "      <th>4</th>\n",
       "      <td>29</td>\n",
       "      <td>67.0</td>\n",
       "      <td>Male</td>\n",
       "      <td>Biryani</td>\n",
       "      <td>164.000</td>\n",
       "    </tr>\n",
       "  </tbody>\n",
       "</table>\n",
       "</div>"
      ],
      "text/plain": [
       "   age  weight gender likeness   height\n",
       "0   27    76.0   Male  Biryani  170.688\n",
       "1   41    70.0   Male  Biryani  165.000\n",
       "2   29    80.0   Male  Biryani  171.000\n",
       "3   27   102.0   Male  Biryani  173.000\n",
       "4   29    67.0   Male  Biryani  164.000"
      ]
     },
     "execution_count": 1,
     "metadata": {},
     "output_type": "execute_result"
    }
   ],
   "source": [
    "import pandas as pd\n",
    "df = pd.read_csv(\"mldata.csv\")\n",
    "df.head()"
   ]
  },
  {
   "cell_type": "code",
   "execution_count": 2,
   "id": "0b70f229",
   "metadata": {},
   "outputs": [],
   "source": [
    "# here i can covert the gender column string to integer\n",
    "df[\"gender\"] = df[\"gender\"].replace([\"Male\",\"Female\"],[1,0])\n",
    "# df[\"gender\"] = df[\"gender\"].replace(\"Female\",0)"
   ]
  },
  {
   "cell_type": "code",
   "execution_count": 3,
   "id": "14be29c1",
   "metadata": {},
   "outputs": [
    {
     "data": {
      "text/html": [
       "<div>\n",
       "<style scoped>\n",
       "    .dataframe tbody tr th:only-of-type {\n",
       "        vertical-align: middle;\n",
       "    }\n",
       "\n",
       "    .dataframe tbody tr th {\n",
       "        vertical-align: top;\n",
       "    }\n",
       "\n",
       "    .dataframe thead th {\n",
       "        text-align: right;\n",
       "    }\n",
       "</style>\n",
       "<table border=\"1\" class=\"dataframe\">\n",
       "  <thead>\n",
       "    <tr style=\"text-align: right;\">\n",
       "      <th></th>\n",
       "      <th>age</th>\n",
       "      <th>weight</th>\n",
       "      <th>gender</th>\n",
       "      <th>likeness</th>\n",
       "      <th>height</th>\n",
       "    </tr>\n",
       "  </thead>\n",
       "  <tbody>\n",
       "    <tr>\n",
       "      <th>235</th>\n",
       "      <td>20</td>\n",
       "      <td>48.0</td>\n",
       "      <td>1</td>\n",
       "      <td>Biryani</td>\n",
       "      <td>155.0</td>\n",
       "    </tr>\n",
       "    <tr>\n",
       "      <th>236</th>\n",
       "      <td>30</td>\n",
       "      <td>50.0</td>\n",
       "      <td>0</td>\n",
       "      <td>Biryani</td>\n",
       "      <td>5.3</td>\n",
       "    </tr>\n",
       "    <tr>\n",
       "      <th>237</th>\n",
       "      <td>24</td>\n",
       "      <td>60.0</td>\n",
       "      <td>1</td>\n",
       "      <td>Biryani</td>\n",
       "      <td>114.0</td>\n",
       "    </tr>\n",
       "    <tr>\n",
       "      <th>238</th>\n",
       "      <td>22</td>\n",
       "      <td>50.0</td>\n",
       "      <td>1</td>\n",
       "      <td>Samosa</td>\n",
       "      <td>6.0</td>\n",
       "    </tr>\n",
       "    <tr>\n",
       "      <th>239</th>\n",
       "      <td>27</td>\n",
       "      <td>63.0</td>\n",
       "      <td>1</td>\n",
       "      <td>Biryani</td>\n",
       "      <td>165.0</td>\n",
       "    </tr>\n",
       "    <tr>\n",
       "      <th>240</th>\n",
       "      <td>31</td>\n",
       "      <td>60.0</td>\n",
       "      <td>1</td>\n",
       "      <td>Pakora</td>\n",
       "      <td>160.0</td>\n",
       "    </tr>\n",
       "    <tr>\n",
       "      <th>241</th>\n",
       "      <td>26</td>\n",
       "      <td>70.0</td>\n",
       "      <td>1</td>\n",
       "      <td>Biryani</td>\n",
       "      <td>172.0</td>\n",
       "    </tr>\n",
       "    <tr>\n",
       "      <th>242</th>\n",
       "      <td>40</td>\n",
       "      <td>80.0</td>\n",
       "      <td>1</td>\n",
       "      <td>Biryani</td>\n",
       "      <td>178.0</td>\n",
       "    </tr>\n",
       "    <tr>\n",
       "      <th>243</th>\n",
       "      <td>25</td>\n",
       "      <td>65.0</td>\n",
       "      <td>1</td>\n",
       "      <td>Biryani</td>\n",
       "      <td>5.7</td>\n",
       "    </tr>\n",
       "    <tr>\n",
       "      <th>244</th>\n",
       "      <td>33</td>\n",
       "      <td>56.0</td>\n",
       "      <td>0</td>\n",
       "      <td>Samosa</td>\n",
       "      <td>157.0</td>\n",
       "    </tr>\n",
       "  </tbody>\n",
       "</table>\n",
       "</div>"
      ],
      "text/plain": [
       "     age  weight  gender likeness  height\n",
       "235   20    48.0       1  Biryani   155.0\n",
       "236   30    50.0       0  Biryani     5.3\n",
       "237   24    60.0       1  Biryani   114.0\n",
       "238   22    50.0       1   Samosa     6.0\n",
       "239   27    63.0       1  Biryani   165.0\n",
       "240   31    60.0       1   Pakora   160.0\n",
       "241   26    70.0       1  Biryani   172.0\n",
       "242   40    80.0       1  Biryani   178.0\n",
       "243   25    65.0       1  Biryani     5.7\n",
       "244   33    56.0       0   Samosa   157.0"
      ]
     },
     "execution_count": 3,
     "metadata": {},
     "output_type": "execute_result"
    }
   ],
   "source": [
    "df.tail(10)"
   ]
  },
  {
   "cell_type": "code",
   "execution_count": 4,
   "id": "80f7fdac",
   "metadata": {},
   "outputs": [],
   "source": [
    "x = df[[\"weight\",\"gender\"]]\n",
    "y =df[\"likeness\"]"
   ]
  },
  {
   "cell_type": "code",
   "execution_count": 5,
   "id": "ad68e523",
   "metadata": {},
   "outputs": [
    {
     "data": {
      "text/html": [
       "<div>\n",
       "<style scoped>\n",
       "    .dataframe tbody tr th:only-of-type {\n",
       "        vertical-align: middle;\n",
       "    }\n",
       "\n",
       "    .dataframe tbody tr th {\n",
       "        vertical-align: top;\n",
       "    }\n",
       "\n",
       "    .dataframe thead th {\n",
       "        text-align: right;\n",
       "    }\n",
       "</style>\n",
       "<table border=\"1\" class=\"dataframe\">\n",
       "  <thead>\n",
       "    <tr style=\"text-align: right;\">\n",
       "      <th></th>\n",
       "      <th>weight</th>\n",
       "      <th>gender</th>\n",
       "    </tr>\n",
       "  </thead>\n",
       "  <tbody>\n",
       "    <tr>\n",
       "      <th>0</th>\n",
       "      <td>76.0</td>\n",
       "      <td>1</td>\n",
       "    </tr>\n",
       "    <tr>\n",
       "      <th>1</th>\n",
       "      <td>70.0</td>\n",
       "      <td>1</td>\n",
       "    </tr>\n",
       "    <tr>\n",
       "      <th>2</th>\n",
       "      <td>80.0</td>\n",
       "      <td>1</td>\n",
       "    </tr>\n",
       "    <tr>\n",
       "      <th>3</th>\n",
       "      <td>102.0</td>\n",
       "      <td>1</td>\n",
       "    </tr>\n",
       "    <tr>\n",
       "      <th>4</th>\n",
       "      <td>67.0</td>\n",
       "      <td>1</td>\n",
       "    </tr>\n",
       "  </tbody>\n",
       "</table>\n",
       "</div>"
      ],
      "text/plain": [
       "   weight  gender\n",
       "0    76.0       1\n",
       "1    70.0       1\n",
       "2    80.0       1\n",
       "3   102.0       1\n",
       "4    67.0       1"
      ]
     },
     "execution_count": 5,
     "metadata": {},
     "output_type": "execute_result"
    }
   ],
   "source": [
    "x.head()"
   ]
  },
  {
   "cell_type": "code",
   "execution_count": 6,
   "id": "83a187ec",
   "metadata": {},
   "outputs": [
    {
     "data": {
      "text/plain": [
       "0    Biryani\n",
       "1    Biryani\n",
       "2    Biryani\n",
       "3    Biryani\n",
       "4    Biryani\n",
       "Name: likeness, dtype: object"
      ]
     },
     "execution_count": 6,
     "metadata": {},
     "output_type": "execute_result"
    }
   ],
   "source": [
    "y.head()"
   ]
  },
  {
   "cell_type": "code",
   "execution_count": 7,
   "id": "88aa532a",
   "metadata": {},
   "outputs": [
    {
     "data": {
      "text/plain": [
       "KNeighborsClassifier()"
      ]
     },
     "execution_count": 7,
     "metadata": {},
     "output_type": "execute_result"
    }
   ],
   "source": [
    "from sklearn.neighbors import KNeighborsClassifier\n",
    "\n",
    "# Create and Fit our model\n",
    "\n",
    "model = KNeighborsClassifier().fit(x,y)\n",
    "model"
   ]
  },
  {
   "cell_type": "code",
   "execution_count": 8,
   "id": "d2c35fd6",
   "metadata": {},
   "outputs": [
    {
     "data": {
      "text/plain": [
       "array(['Biryani'], dtype=object)"
      ]
     },
     "execution_count": 8,
     "metadata": {},
     "output_type": "execute_result"
    }
   ],
   "source": [
    "model.predict([[70,1]])"
   ]
  },
  {
   "cell_type": "code",
   "execution_count": 9,
   "id": "128d0012",
   "metadata": {},
   "outputs": [
    {
     "data": {
      "text/plain": [
       "array(['Biryani'], dtype=object)"
      ]
     },
     "execution_count": 9,
     "metadata": {},
     "output_type": "execute_result"
    }
   ],
   "source": [
    "from sklearn.neighbors import KNeighborsClassifier\n",
    "\n",
    "# Create and Fit our model\n",
    "\n",
    "model = KNeighborsClassifier(n_neighbors=5).fit(x,y)\n",
    "predicted = model.predict([[70,1]])\n",
    "predicted"
   ]
  },
  {
   "cell_type": "code",
   "execution_count": 10,
   "id": "814fb0dc",
   "metadata": {},
   "outputs": [
    {
     "data": {
      "text/plain": [
       "array(['Biryani', 'Biryani', 'Biryani', 'Biryani', 'Biryani', 'Biryani',\n",
       "       'Biryani', 'Biryani', 'Samosa', 'Biryani', 'Biryani', 'Biryani',\n",
       "       'Biryani', 'Biryani', 'Biryani', 'Biryani', 'Biryani', 'Biryani',\n",
       "       'Biryani', 'Biryani', 'Biryani', 'Biryani', 'Biryani', 'Biryani',\n",
       "       'Biryani', 'Biryani', 'Biryani', 'Biryani', 'Biryani', 'Biryani',\n",
       "       'Biryani', 'Biryani', 'Samosa', 'Samosa', 'Pakora', 'Biryani',\n",
       "       'Samosa', 'Biryani', 'Biryani', 'Samosa', 'Biryani', 'Samosa',\n",
       "       'Biryani', 'Biryani', 'Biryani', 'Biryani', 'Biryani', 'Biryani',\n",
       "       'Biryani', 'Biryani', 'Biryani', 'Biryani', 'Biryani', 'Biryani',\n",
       "       'Biryani', 'Biryani', 'Biryani', 'Biryani', 'Biryani', 'Biryani',\n",
       "       'Biryani', 'Biryani', 'Biryani', 'Pakora', 'Biryani', 'Biryani',\n",
       "       'Biryani', 'Biryani', 'Biryani', 'Biryani', 'Biryani', 'Biryani',\n",
       "       'Biryani', 'Biryani', 'Biryani', 'Biryani', 'Biryani', 'Biryani',\n",
       "       'Biryani', 'Biryani', 'Biryani', 'Biryani', 'Biryani', 'Biryani',\n",
       "       'Biryani', 'Samosa', 'Biryani', 'Pakora', 'Biryani', 'Samosa',\n",
       "       'Biryani', 'Biryani', 'Samosa', 'Biryani', 'Biryani', 'Biryani',\n",
       "       'Biryani', 'Biryani', 'Biryani', 'Samosa', 'Biryani', 'Biryani',\n",
       "       'Biryani', 'Biryani', 'Biryani', 'Pakora', 'Biryani', 'Biryani',\n",
       "       'Biryani', 'Biryani', 'Biryani', 'Biryani', 'Biryani', 'Biryani',\n",
       "       'Biryani', 'Biryani', 'Pakora', 'Biryani', 'Biryani', 'Biryani',\n",
       "       'Biryani', 'Pakora', 'Biryani', 'Biryani', 'Biryani', 'Biryani',\n",
       "       'Biryani', 'Biryani', 'Biryani', 'Biryani', 'Biryani', 'Biryani',\n",
       "       'Biryani', 'Biryani', 'Biryani', 'Biryani', 'Biryani', 'Pakora',\n",
       "       'Biryani', 'Biryani', 'Biryani', 'Biryani', 'Samosa', 'Biryani',\n",
       "       'Biryani', 'Biryani', 'Biryani', 'Biryani', 'Biryani', 'Biryani',\n",
       "       'Biryani', 'Biryani', 'Biryani', 'Samosa', 'Biryani', 'Biryani',\n",
       "       'Samosa', 'Biryani', 'Biryani', 'Pakora', 'Biryani', 'Biryani',\n",
       "       'Biryani', 'Biryani', 'Biryani', 'Biryani', 'Biryani', 'Biryani',\n",
       "       'Biryani', 'Samosa', 'Pakora', 'Samosa', 'Biryani', 'Biryani',\n",
       "       'Biryani', 'Biryani', 'Biryani', 'Biryani', 'Samosa', 'Biryani',\n",
       "       'Biryani', 'Samosa', 'Pakora', 'Biryani', 'Biryani', 'Biryani',\n",
       "       'Biryani', 'Biryani', 'Biryani', 'Biryani', 'Biryani', 'Biryani',\n",
       "       'Biryani', 'Samosa', 'Biryani', 'Biryani', 'Biryani', 'Biryani',\n",
       "       'Biryani', 'Biryani', 'Biryani', 'Biryani', 'Biryani', 'Biryani',\n",
       "       'Biryani', 'Biryani', 'Samosa', 'Biryani', 'Pakora', 'Biryani',\n",
       "       'Biryani', 'Biryani', 'Biryani', 'Biryani', 'Samosa', 'Biryani',\n",
       "       'Biryani', 'Biryani', 'Biryani', 'Biryani', 'Biryani', 'Biryani',\n",
       "       'Biryani', 'Biryani', 'Biryani', 'Biryani', 'Samosa', 'Biryani',\n",
       "       'Biryani', 'Biryani', 'Samosa', 'Biryani', 'Biryani', 'Biryani',\n",
       "       'Biryani', 'Biryani', 'Biryani', 'Biryani', 'Samosa', 'Biryani',\n",
       "       'Biryani', 'Biryani', 'Biryani', 'Biryani', 'Biryani'],\n",
       "      dtype=object)"
      ]
     },
     "execution_count": 10,
     "metadata": {},
     "output_type": "execute_result"
    }
   ],
   "source": [
    "model.predict(x)"
   ]
  },
  {
   "cell_type": "markdown",
   "id": "d102149c",
   "metadata": {},
   "source": [
    "# These commad to check where can we used?\n",
    "- Precision_Score\n",
    "- recall_score\n",
    "- f1_score"
   ]
  },
  {
   "cell_type": "code",
   "execution_count": 24,
   "id": "bb074267",
   "metadata": {},
   "outputs": [
    {
     "name": "stdout",
     "output_type": "stream",
     "text": [
      "['Biryani' 'Biryani' 'Pakora' 'Biryani' 'Samosa' 'Biryani' 'Biryani'\n",
      " 'Biryani' 'Biryani' 'Biryani' 'Samosa' 'Biryani' 'Samosa' 'Pakora'\n",
      " 'Biryani' 'Biryani' 'Biryani' 'Biryani' 'Biryani' 'Pakora' 'Biryani'\n",
      " 'Biryani' 'Biryani' 'Biryani' 'Biryani' 'Biryani' 'Biryani' 'Samosa'\n",
      " 'Biryani' 'Samosa' 'Biryani' 'Biryani' 'Biryani' 'Biryani' 'Biryani'\n",
      " 'Biryani' 'Biryani' 'Biryani' 'Samosa' 'Biryani' 'Biryani' 'Biryani'\n",
      " 'Biryani' 'Biryani' 'Biryani' 'Biryani' 'Biryani' 'Biryani' 'Biryani']\n",
      "\n",
      "The accuracy score our model =  0.6122448979591837\n"
     ]
    }
   ],
   "source": [
    "from sklearn.model_selection import train_test_split\n",
    "from sklearn.metrics import accuracy_score \n",
    "from sklearn.metrics import precision_score\n",
    "from sklearn.metrics import recall_score\n",
    "from sklearn.metrics import f1_score\n",
    "\"\"\"here i can see multiple command to check the accuracy Score\n",
    "\n",
    "   1- Precision_Score\n",
    "   2- recall_score\n",
    "   3- f1_score\n",
    "\"\"\" \n",
    "\n",
    "X_train,X_test,y_train,y_test = train_test_split(x , y , test_size = 0.2,random_state = 0) # 80% training data and 20% testing data\n",
    "## Create a model and fitting a model\n",
    "model = KNeighborsClassifier()\n",
    "model.fit(X_train,y_train)\n",
    "predicted_values = model.predict(X_test)\n",
    "print(predicted_values)\n",
    "\n",
    "\n",
    "#Checking Score\n",
    "\n",
    "score = accuracy_score(y_test,predicted_values)\n",
    "print()\n",
    "print(\"The accuracy score our model = \",score)"
   ]
  },
  {
   "cell_type": "markdown",
   "id": "c95caac9",
   "metadata": {},
   "source": [
    "### recall_score"
   ]
  },
  {
   "cell_type": "code",
   "execution_count": 15,
   "id": "985f088f",
   "metadata": {},
   "outputs": [
    {
     "name": "stdout",
     "output_type": "stream",
     "text": [
      "\n",
      "The precisio score of our model =  0.6122448979591837\n"
     ]
    }
   ],
   "source": [
    "score = recall_score(y_test,predicted_values, average = \"micro\")\n",
    "print()\n",
    "print(\"The precisio score of our model = \",score)"
   ]
  },
  {
   "cell_type": "code",
   "execution_count": 16,
   "id": "9a99664a",
   "metadata": {},
   "outputs": [
    {
     "name": "stdout",
     "output_type": "stream",
     "text": [
      "\n",
      "The precisio score of our model =  0.4016203703703704\n"
     ]
    }
   ],
   "source": [
    "score = recall_score(y_test,predicted_values, average = \"macro\")\n",
    "print()\n",
    "print(\"The precisio score of our model = \",score)"
   ]
  },
  {
   "cell_type": "code",
   "execution_count": 17,
   "id": "be9ef2ff",
   "metadata": {},
   "outputs": [
    {
     "name": "stdout",
     "output_type": "stream",
     "text": [
      "\n",
      "The precisio score of our model =  0.6122448979591837\n"
     ]
    }
   ],
   "source": [
    "score = recall_score(y_test,predicted_values, average = \"weighted\")\n",
    "print()\n",
    "print(\"The precisio score of our model = \",score)"
   ]
  },
  {
   "cell_type": "markdown",
   "id": "b8d62630",
   "metadata": {},
   "source": [
    "### Precision Score"
   ]
  },
  {
   "cell_type": "code",
   "execution_count": 21,
   "id": "e7b88ee7",
   "metadata": {},
   "outputs": [
    {
     "name": "stdout",
     "output_type": "stream",
     "text": [
      "\n",
      "The precisio score of our model =  0.5564625850340137\n"
     ]
    }
   ],
   "source": [
    "score = precision_score(y_test,predicted_values, average = \"weighted\")\n",
    "print()\n",
    "print(\"The precisio score of our model = \",score)"
   ]
  },
  {
   "cell_type": "code",
   "execution_count": 22,
   "id": "92bee808",
   "metadata": {},
   "outputs": [
    {
     "name": "stdout",
     "output_type": "stream",
     "text": [
      "\n",
      "The precisio score of our model =  0.4472222222222222\n"
     ]
    }
   ],
   "source": [
    "score = precision_score(y_test,predicted_values, average = \"macro\")\n",
    "print()\n",
    "print(\"The precisio score of our model = \",score)"
   ]
  },
  {
   "cell_type": "code",
   "execution_count": 23,
   "id": "2001009a",
   "metadata": {},
   "outputs": [
    {
     "name": "stdout",
     "output_type": "stream",
     "text": [
      "\n",
      "The precisio score of our model =  0.6122448979591837\n"
     ]
    }
   ],
   "source": [
    "score = precision_score(y_test,predicted_values, average = \"micro\")\n",
    "print()\n",
    "print(\"The precisio score of our model = \",score)"
   ]
  },
  {
   "cell_type": "markdown",
   "id": "273dcfcf",
   "metadata": {},
   "source": [
    "### f1_score"
   ]
  },
  {
   "cell_type": "code",
   "execution_count": 25,
   "id": "1b7a76fc",
   "metadata": {},
   "outputs": [
    {
     "name": "stdout",
     "output_type": "stream",
     "text": [
      "\n",
      "The f1 score of our model =  0.6122448979591837\n"
     ]
    }
   ],
   "source": [
    "score = f1_score(y_test,predicted_values, average = \"micro\")\n",
    "print()\n",
    "print(\"The f1 score of our model = \",score)"
   ]
  },
  {
   "cell_type": "code",
   "execution_count": 26,
   "id": "3bb89ef6",
   "metadata": {},
   "outputs": [
    {
     "name": "stdout",
     "output_type": "stream",
     "text": [
      "\n",
      "The f1 score of our model =  0.40079365079365076\n"
     ]
    }
   ],
   "source": [
    "score = f1_score(y_test,predicted_values, average = \"macro\")\n",
    "print()\n",
    "print(\"The f1 score of our model = \",score)"
   ]
  },
  {
   "cell_type": "code",
   "execution_count": 27,
   "id": "b68bc3d1",
   "metadata": {},
   "outputs": [
    {
     "name": "stdout",
     "output_type": "stream",
     "text": [
      "\n",
      "The f1 score of our model =  0.5670553935860058\n"
     ]
    }
   ],
   "source": [
    "score = f1_score(y_test,predicted_values, average = \"weighted\")\n",
    "print()\n",
    "print(\"The f1 score of our model = \",score)"
   ]
  }
 ],
 "metadata": {
  "kernelspec": {
   "display_name": "Python 3 (ipykernel)",
   "language": "python",
   "name": "python3"
  },
  "language_info": {
   "codemirror_mode": {
    "name": "ipython",
    "version": 3
   },
   "file_extension": ".py",
   "mimetype": "text/x-python",
   "name": "python",
   "nbconvert_exporter": "python",
   "pygments_lexer": "ipython3",
   "version": "3.9.7"
  }
 },
 "nbformat": 4,
 "nbformat_minor": 5
}
