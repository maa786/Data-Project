{
 "cells": [
  {
   "cell_type": "markdown",
   "id": "3208c572",
   "metadata": {},
   "source": [
    "# Python Ka Chilla with baba Ammar"
   ]
  },
  {
   "cell_type": "markdown",
   "id": "ecdadea9",
   "metadata": {},
   "source": [
    "## Basic of Python"
   ]
  },
  {
   "cell_type": "markdown",
   "id": "f2bb3f9b",
   "metadata": {},
   "source": [
    "##### 01- My first Program"
   ]
  },
  {
   "cell_type": "code",
   "execution_count": 1,
   "id": "ca575540",
   "metadata": {},
   "outputs": [
    {
     "name": "stdout",
     "output_type": "stream",
     "text": [
      "5\n",
      "Hello world\n",
      "We are learning python with baba ammar\n"
     ]
    }
   ],
   "source": [
    "print(2+3)\n",
    "print(\"Hello world\")\n",
    "print(\"We are learning python with baba ammar\")"
   ]
  },
  {
   "cell_type": "markdown",
   "id": "28f4bb2e",
   "metadata": {},
   "source": [
    "#### 2- Operators"
   ]
  },
  {
   "cell_type": "code",
   "execution_count": 2,
   "id": "79ad6014",
   "metadata": {},
   "outputs": [
    {
     "name": "stdout",
     "output_type": "stream",
     "text": [
      "4\n",
      "8\n",
      "8\n",
      "3.0\n",
      "2\n",
      "2\n",
      "8\n",
      "3.8000000000000007\n"
     ]
    }
   ],
   "source": [
    "print(2+2)\n",
    "print(13-5)\n",
    "print(4*2)\n",
    "print(6/2)\n",
    "print(14//7)\n",
    "print(8%3)\n",
    "print(2**3)\n",
    "print(2**3/5*3-5+4)\n",
    "\n",
    "#PEMDAS\n",
    "\n",
    "# Paranthesis Exponent Multiply devide Addition Subtraction"
   ]
  },
  {
   "cell_type": "markdown",
   "id": "df495332",
   "metadata": {},
   "source": [
    "#### 3 string"
   ]
  },
  {
   "cell_type": "code",
   "execution_count": 3,
   "id": "6a30647e",
   "metadata": {},
   "outputs": [
    {
     "name": "stdout",
     "output_type": "stream",
     "text": [
      "hello world\n",
      "We are learning with ammar\n",
      "Test for single quotes\n",
      "Test for double quotes\n",
      "Test for triple quotes\n",
      "whats'up\n"
     ]
    }
   ],
   "source": [
    "print(\"hello world\")\n",
    "print(\"We are learning with ammar\")\n",
    "print('Test for single quotes')\n",
    "print(\"Test for double quotes\")\n",
    "print('Test for triple quotes')\n",
    "print(\"whats'up\")"
   ]
  },
  {
   "cell_type": "markdown",
   "id": "f8ec0004",
   "metadata": {},
   "source": [
    "#### 4 comment"
   ]
  },
  {
   "cell_type": "code",
   "execution_count": 4,
   "id": "e31c6b28",
   "metadata": {},
   "outputs": [
    {
     "name": "stdout",
     "output_type": "stream",
     "text": [
      "How are you ?\n",
      "We are learning Python with Ammar\n",
      "8\n"
     ]
    }
   ],
   "source": [
    "print ( \"How are you ?\" )        #press these to comment in/out  (Ctr L+/)\n",
    "print(\"We are learning Python with Ammar\") #print a string\n",
    "\n",
    "print (2+6) # print operators function with numbers"
   ]
  },
  {
   "cell_type": "markdown",
   "id": "372ace3d",
   "metadata": {},
   "source": [
    "# 5-Variable"
   ]
  },
  {
   "cell_type": "code",
   "execution_count": 5,
   "id": "931f334b",
   "metadata": {},
   "outputs": [
    {
     "name": "stdout",
     "output_type": "stream",
     "text": [
      "5\n",
      "We are learning Python with Ammar\n",
      "15\n",
      "<class 'int'>\n",
      "<class 'str'>\n",
      "<class 'int'>\n",
      "15\n"
     ]
    }
   ],
   "source": [
    "# VariabLes : obJects  containing specific vaLues\n",
    "x = 5 #numeric or integer variabLe\n",
    "print(x)\n",
    "\n",
    "y=\"We are learning Python with Ammar\" #string vorriab1e\n",
    "print(y)\n",
    "\n",
    "x=x+10 #or x=15\n",
    "print(x)\n",
    "\n",
    "#type or class of variable\n",
    "type(x)\n",
    "print(type(x))\n",
    "\n",
    "print(type(y))\n",
    "\n",
    "#print type_cLass\n",
    "\n",
    "#Ru Les to assign a variabLe\n",
    "# 1- The variabLe shouLd containt Leters, numbers or underscores\n",
    "# 2 - Do not start with numbers\n",
    "# J - Spaces are not aLLowed\n",
    "# 4 - Do not use Keywords used in function (break, mean, median, test etc. )\n",
    "# 5 - Short and descriptive\n",
    "# 6 - Case sensitivity (Lowercase, uppercase Letters. Lowencase shouLd be used)\n",
    "\n",
    "fruit_basket=8\n",
    "fruit_basket=15\n",
    "print(type(fruit_basket))\n",
    "print(fruit_basket)"
   ]
  },
  {
   "cell_type": "markdown",
   "id": "0ccffd30",
   "metadata": {},
   "source": [
    "#### 6-input variable"
   ]
  },
  {
   "cell_type": "code",
   "execution_count": 6,
   "id": "ea0d6fb9",
   "metadata": {},
   "outputs": [
    {
     "name": "stdout",
     "output_type": "stream",
     "text": [
      "Mangoes\n",
      "What is your favorite fruit? Mango\n",
      "Mango\n",
      "What is your name? Arham\n",
      "Hello! Arham\n",
      "What is your last name? Adeel\n",
      "How old are you? 24\n",
      "Hello! Adeel You are still young\n"
     ]
    }
   ],
   "source": [
    "fruit_basket=\"Mangoes\"\n",
    "print(fruit_basket)\n",
    "\n",
    "#input function simpLe\n",
    "fruit_basket=input(\"What is your favorite fruit? \")\n",
    "print(fruit_basket)\n",
    "\n",
    "#input function of 2nd stage\n",
    "# name = input(”that is your name? “) # greetings = \"HeLLo!\"\n",
    "# print(greetsings, name)\n",
    "\n",
    "#another way of stage 2 input function\n",
    "name = input('What is your name? ') \n",
    "print(\"Hello!\", name)\n",
    "\n",
    "#3rd stage input function\n",
    "name = input(\"What is your last name? \")\n",
    "age = input(\"How old are you? \")\n",
    "greetings=\"Hello!\"\n",
    "\n",
    "print(greetings, name, 'You are still young')\n",
    "# input_ammarr You are stiLL young"
   ]
  },
  {
   "cell_type": "markdown",
   "id": "235ed134",
   "metadata": {},
   "source": [
    "#### 7 conditional logic"
   ]
  },
  {
   "cell_type": "code",
   "execution_count": 7,
   "id": "9170b050",
   "metadata": {},
   "outputs": [
    {
     "name": "stdout",
     "output_type": "stream",
     "text": [
      "True\n",
      "False\n",
      "True\n",
      "True\n",
      "True\n",
      "True\n",
      "False\n",
      "How old is hammad? 24\n",
      "<class 'int'>\n",
      "False\n"
     ]
    }
   ],
   "source": [
    "#LogicaL operators are either “true or faLse” or “yes or no” or “0 or 1”\n",
    "#equaL to                     ==   \n",
    "# not equaL to               !=\n",
    "# Less than                   <\n",
    "#It greater than              >\n",
    "# Less than and equaL to     <=\n",
    "# greater than and equaL to   >=\n",
    "\n",
    "#is  4 equo L to 4?\n",
    "print(4==4)\n",
    "print(4!=4)\n",
    "print(4>3)\n",
    "print(3<6)\n",
    "print(3<=5)\n",
    "print(5>=4)\n",
    "\n",
    "# appLication of LogicaL operators\n",
    "hammad_age = 4\n",
    "age_at_school = 5 \n",
    "print(hammad_age==age_at_school)\n",
    "\n",
    "#input operator and LogicaLs\n",
    "age_at_school=5\n",
    "hammad_age=input(\"How old is hammad? \") #input jFUnction\n",
    "hammad_age=int(hammad_age)\n",
    "\n",
    "print(type(hammad_age)) \n",
    "print(hammad_age==age_at_school) #1ogico1 operoror\n"
   ]
  },
  {
   "cell_type": "markdown",
   "id": "f0202b17",
   "metadata": {},
   "source": [
    "#### 8-type conversion"
   ]
  },
  {
   "cell_type": "code",
   "execution_count": 8,
   "id": "090045d9",
   "metadata": {},
   "outputs": [
    {
     "name": "stdout",
     "output_type": "stream",
     "text": [
      "What's your age? 24\n",
      "24 <class 'int'>\n",
      "What 1s your name ? Arham\n",
      "Arham <class 'str'>\n"
     ]
    }
   ],
   "source": [
    "# x=10     #integer\n",
    "# y= 10.2   fLoat\n",
    "# z = \"HeLLo\"  #string\n",
    "\n",
    "\n",
    "# impLicit type conversion\n",
    "\n",
    "# print(x,  \"Type of x i s : \",  type (x))\n",
    "\n",
    "#ExpLicit  type conversion\n",
    "age = input(\"What's your age? \")\n",
    "# age = int(age)\n",
    "print(age, type(int(age)))\n",
    "\n",
    "#nane\n",
    "name=input(\"What 1s your name ? \")\n",
    "print ( name, type( str (name) ) )"
   ]
  },
  {
   "cell_type": "markdown",
   "id": "99cc2369",
   "metadata": {},
   "source": [
    "#### IF Else Elif"
   ]
  },
  {
   "cell_type": "code",
   "execution_count": 9,
   "id": "6beab786",
   "metadata": {},
   "outputs": [
    {
     "name": "stdout",
     "output_type": "stream",
     "text": [
      "You should take care of Hammad, he is still a baby! \n"
     ]
    }
   ],
   "source": [
    "hammad_age = 1\n",
    "required_age_at_school = 5\n",
    "# question : can hammad go to schoo L ?\n",
    "\n",
    "if hammad_age==required_age_at_school: \n",
    "    print(\"Congratulations! Hammad can join the school. \")\n",
    "elif hammad_age > required_age_at_school:\n",
    "    print(\"Hammad should join higher secondary school\")\n",
    "elif hammad_age <= 2:\n",
    "    print(\"You should take care of Hammad, he is still a baby! \") \n",
    "else:\n",
    "    print(\"Hammad can not go to school\")"
   ]
  },
  {
   "cell_type": "markdown",
   "id": "399eddbc",
   "metadata": {},
   "source": [
    "#### 10 Function"
   ]
  },
  {
   "cell_type": "code",
   "execution_count": 10,
   "id": "70ba89b8",
   "metadata": {},
   "outputs": [
    {
     "name": "stdout",
     "output_type": "stream",
     "text": [
      "We are learning with Ammar\n",
      "We are learning with Ammar\n",
      "We are learning with Ammar\n",
      "Hammad is still a baby\n",
      "38\n"
     ]
    }
   ],
   "source": [
    "# defning a function \n",
    "# 1\n",
    "#from typing imrport Text\n",
    "\n",
    "# def print codanics() :\n",
    "    #print(\"We are learning with Ammar \")\n",
    "    #print(\"We are learning with Ammar \")\n",
    "    #print(\"We are learning with Ammar \")\n",
    "\n",
    "# print codanics()\n",
    "\n",
    "\n",
    "def print_codanics():\n",
    "    text = \"We are learning with Ammar\" \n",
    "    print(text)\n",
    "    print(text)\n",
    "    print(text)\n",
    "print_codanics()\n",
    "\n",
    "#defining a function with if elif or else statement\n",
    "\n",
    "def school_calculator(age):\n",
    "    if age==5:\n",
    "        print(\"Hammad can join the school\")\n",
    "    elif age>5:\n",
    "        print(\"Hammad should go to higher school\")\n",
    "    else:\n",
    "        print(\"Hammad is still a baby\")\n",
    "\n",
    "school_calculator(2)\n",
    "\n",
    "# deftining a function of future\n",
    "def future_age(age):\n",
    "              new_age=age+20\n",
    "              return new_age\n",
    "\n",
    "future_predicted_age = future_age(18)\n",
    "print(future_predicted_age)"
   ]
  },
  {
   "cell_type": "markdown",
   "id": "830f930a",
   "metadata": {},
   "source": [
    "#### 11 loops"
   ]
  },
  {
   "cell_type": "code",
   "execution_count": 11,
   "id": "f035adfe",
   "metadata": {},
   "outputs": [
    {
     "name": "stdout",
     "output_type": "stream",
     "text": [
      "4\n",
      "5\n",
      "6\n",
      "7\n",
      "8\n",
      "9\n",
      "10\n",
      "Mon\n",
      "Tue\n",
      "Wed\n",
      "Thu\n",
      "Sat\n",
      "Sun\n"
     ]
    }
   ],
   "source": [
    "#uhiLe and For Loops\n",
    "\n",
    "#uhiLe Loops\n",
    "# x=0\n",
    "# while(x<5):\n",
    "#     print(x)\n",
    "#     x=x+1\n",
    "\n",
    "#for Loop\n",
    "\n",
    "for x in range(4,11):\n",
    "    print(x)\n",
    "# arnay\n",
    "days = [\"Mon\", \"Tue\", \"Wed\", \"Thu\", \"Fri\", \"Sat\", \"Sun\"]\n",
    "\n",
    "for d in days:\n",
    "    #if (d == \"Fri\"): \n",
    "        #break           #loop stop\n",
    "    if  (d== \"Fri\") :\n",
    "        continue #Skips d\n",
    "    print(d)"
   ]
  },
  {
   "cell_type": "markdown",
   "id": "542e4f2d",
   "metadata": {},
   "source": [
    "#### 12  Import Libraries"
   ]
  },
  {
   "cell_type": "code",
   "execution_count": 12,
   "id": "7f35c514",
   "metadata": {},
   "outputs": [
    {
     "name": "stdout",
     "output_type": "stream",
     "text": [
      "The value of pi is  3.141592653589793\n",
      "300\n"
     ]
    }
   ],
   "source": [
    "import math\n",
    "print(\"The value of pi is \", math.pi)\n",
    "\n",
    "import statistics\n",
    "x = [150,250,350,450]\n",
    "print(statistics.mean(x))\n"
   ]
  },
  {
   "cell_type": "markdown",
   "id": "57ff86e0",
   "metadata": {},
   "source": [
    "#### 13- TroubleShootiong"
   ]
  },
  {
   "cell_type": "code",
   "execution_count": 13,
   "id": "149b8529",
   "metadata": {},
   "outputs": [
    {
     "name": "stdout",
     "output_type": "stream",
     "text": [
      "Hello Ammar\n"
     ]
    }
   ],
   "source": [
    "# print(we are Learnning python with Ammar) Its Syntax error\n",
    "\n",
    "# print(25/0) # runt time enror\n",
    "\n",
    "name = \"Ammar\"\n",
    "print(\"Hello\", name)\n",
    "\n",
    "#troubLeshooting is easy"
   ]
  },
  {
   "cell_type": "code",
   "execution_count": null,
   "id": "acff2547",
   "metadata": {},
   "outputs": [],
   "source": []
  }
 ],
 "metadata": {
  "kernelspec": {
   "display_name": "Python 3 (ipykernel)",
   "language": "python",
   "name": "python3"
  },
  "language_info": {
   "codemirror_mode": {
    "name": "ipython",
    "version": 3
   },
   "file_extension": ".py",
   "mimetype": "text/x-python",
   "name": "python",
   "nbconvert_exporter": "python",
   "pygments_lexer": "ipython3",
   "version": "3.9.7"
  }
 },
 "nbformat": 4,
 "nbformat_minor": 5
}
